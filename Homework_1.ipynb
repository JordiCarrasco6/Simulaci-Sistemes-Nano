{
  "nbformat": 4,
  "nbformat_minor": 0,
  "metadata": {
    "colab": {
      "provenance": [],
      "include_colab_link": true
    },
    "kernelspec": {
      "name": "python3",
      "display_name": "Python 3"
    },
    "language_info": {
      "name": "python"
    }
  },
  "cells": [
    {
      "cell_type": "markdown",
      "metadata": {
        "id": "view-in-github",
        "colab_type": "text"
      },
      "source": [
        "<a href=\"https://colab.research.google.com/github/JordiCarrasco6/Simulaci-Sistemes-Nano/blob/main/Homework_1.ipynb\" target=\"_parent\"><img src=\"https://colab.research.google.com/assets/colab-badge.svg\" alt=\"Open In Colab\"/></a>"
      ]
    },
    {
      "cell_type": "markdown",
      "source": [
        "**Importem la biblioteca externa que utilitzarem**\n"
      ],
      "metadata": {
        "id": "4uZ1_m_MGMHL"
      }
    },
    {
      "cell_type": "code",
      "source": [
        "import sympy as sp"
      ],
      "metadata": {
        "id": "On2Pp_HYGoQa"
      },
      "execution_count": null,
      "outputs": []
    },
    {
      "cell_type": "markdown",
      "source": [
        "**Definir constants i matrius**"
      ],
      "metadata": {
        "id": "-wF5xBu4GsMG"
      }
    },
    {
      "cell_type": "code",
      "source": [
        "k1, k2, L=sp.symbols('k1 k2 L')"
      ],
      "metadata": {
        "id": "yUgQnGKGGtld"
      },
      "execution_count": null,
      "outputs": []
    },
    {
      "cell_type": "code",
      "source": [
        "I=sp.Matrix([[1,0],[0,k2/k1]])\n",
        "print(I)\n",
        "P1=sp.Matrix([[sp.cos(k1*L),(1/k1)*sp.sin(k1*L)],[-k1*sp.sin(k1*L),sp.cos(k1*L)]])\n",
        "print(P1)\n",
        "P2=sp.Matrix([[sp.cos(k2*L),(1/k2)*sp.sin(k2*L)],[-k2*sp.sin(k2*L),sp.cos(k2*L)]])\n",
        "print(P2)"
      ],
      "metadata": {
        "colab": {
          "base_uri": "https://localhost:8080/"
        },
        "id": "ZUrvmsPRGvDR",
        "outputId": "95f462b0-f2b6-4e42-edbc-ea8325dd6070"
      },
      "execution_count": null,
      "outputs": [
        {
          "output_type": "stream",
          "name": "stdout",
          "text": [
            "Matrix([[1, 0], [0, k2/k1]])\n",
            "Matrix([[cos(L*k1), sin(L*k1)/k1], [-k1*sin(L*k1), cos(L*k1)]])\n",
            "Matrix([[cos(L*k2), sin(L*k2)/k2], [-k2*sin(L*k2), cos(L*k2)]])\n"
          ]
        }
      ]
    },
    {
      "cell_type": "markdown",
      "source": [
        "**Calculem la matriu de Transferència (T)**"
      ],
      "metadata": {
        "id": "-2dW6n_4G1Us"
      }
    },
    {
      "cell_type": "code",
      "source": [
        "T=P2*I*P1\n",
        "print(T)"
      ],
      "metadata": {
        "colab": {
          "base_uri": "https://localhost:8080/"
        },
        "id": "CJ_1op08GzJv",
        "outputId": "6eecdc9e-5716-45f5-a4ee-3ee1cec0d0b4"
      },
      "execution_count": null,
      "outputs": [
        {
          "output_type": "stream",
          "name": "stdout",
          "text": [
            "Matrix([[-sin(L*k1)*sin(L*k2) + cos(L*k1)*cos(L*k2), sin(L*k1)*cos(L*k2)/k1 + sin(L*k2)*cos(L*k1)/k1], [-k2*sin(L*k1)*cos(L*k2) - k2*sin(L*k2)*cos(L*k1), -k2*sin(L*k1)*sin(L*k2)/k1 + k2*cos(L*k1)*cos(L*k2)/k1]])\n"
          ]
        }
      ]
    },
    {
      "cell_type": "markdown",
      "source": [
        "**Calculem el traç**"
      ],
      "metadata": {
        "id": "YmXSJDakG-w5"
      }
    },
    {
      "cell_type": "code",
      "source": [
        "Traç_T=T.trace()\n",
        "print(Traç_T)"
      ],
      "metadata": {
        "colab": {
          "base_uri": "https://localhost:8080/"
        },
        "id": "3t9yehAtG8Nc",
        "outputId": "6fc73fec-fd47-4c0e-e1f8-5798dd6f0258"
      },
      "execution_count": null,
      "outputs": [
        {
          "output_type": "stream",
          "name": "stdout",
          "text": [
            "-sin(L*k1)*sin(L*k2) + cos(L*k1)*cos(L*k2) - k2*sin(L*k1)*sin(L*k2)/k1 + k2*cos(L*k1)*cos(L*k2)/k1\n"
          ]
        }
      ]
    },
    {
      "cell_type": "code",
      "source": [
        "Tç=Traç_T.simplify()\n",
        "print(Tç)"
      ],
      "metadata": {
        "colab": {
          "base_uri": "https://localhost:8080/"
        },
        "id": "aqJfeCdTHDWI",
        "outputId": "b02c5f39-9c32-4f8a-d7b1-e6079a4d80e8"
      },
      "execution_count": null,
      "outputs": [
        {
          "output_type": "stream",
          "name": "stdout",
          "text": [
            "(k1 + k2)*cos(L*(k1 + k2))/k1\n"
          ]
        }
      ]
    },
    {
      "cell_type": "markdown",
      "source": [
        "**Expressió final**"
      ],
      "metadata": {
        "id": "8FY-hZaIHFRY"
      }
    },
    {
      "cell_type": "code",
      "source": [
        "E=Traç_T/2\n",
        "Es=Tç/2\n",
        "print(E)\n",
        "print(Es)"
      ],
      "metadata": {
        "colab": {
          "base_uri": "https://localhost:8080/"
        },
        "id": "k12xcsf3HHeZ",
        "outputId": "ef1180e4-ce5e-449a-f225-b438eb5cc0f0"
      },
      "execution_count": null,
      "outputs": [
        {
          "output_type": "stream",
          "name": "stdout",
          "text": [
            "-sin(L*k1)*sin(L*k2)/2 + cos(L*k1)*cos(L*k2)/2 - k2*sin(L*k1)*sin(L*k2)/(2*k1) + k2*cos(L*k1)*cos(L*k2)/(2*k1)\n",
            "(k1 + k2)*cos(L*(k1 + k2))/(2*k1)\n"
          ]
        }
      ]
    },
    {
      "cell_type": "markdown",
      "source": [
        "Com podem veure tenim dues expressions, una completa i l'altra simplificada."
      ],
      "metadata": {
        "id": "EhYJ2NnJHRXh"
      }
    },
    {
      "cell_type": "markdown",
      "source": [
        "Ara probarem de trobar valor numèric de l'expressió. Per això hem d'assignar valors a les constants."
      ],
      "metadata": {
        "id": "Z23p-cRPGIH3"
      }
    },
    {
      "cell_type": "code",
      "source": [
        "Valors=E.subs({k1:2*sp.pi,k2:sp.pi,L:1})\n",
        "Resultat=Valors.evalf()\n",
        "print(Resultat)"
      ],
      "metadata": {
        "colab": {
          "base_uri": "https://localhost:8080/"
        },
        "id": "ZxnF83Y8GSC9",
        "outputId": "67a96e1d-83af-463f-ebdd-108243a816c7"
      },
      "execution_count": null,
      "outputs": [
        {
          "output_type": "stream",
          "name": "stdout",
          "text": [
            "-0.750000000000000\n"
          ]
        }
      ]
    },
    {
      "cell_type": "markdown",
      "source": [
        "Com veiem obtenim un resultat, i també podem fer-ho per la simplificació."
      ],
      "metadata": {
        "id": "HreKJw8hHbjG"
      }
    },
    {
      "cell_type": "code",
      "source": [
        "Vs=Es.subs({k1:2*sp.pi,k2:sp.pi,L:1})\n",
        "Rs=Valors.evalf()\n",
        "print(Rs)\n"
      ],
      "metadata": {
        "colab": {
          "base_uri": "https://localhost:8080/"
        },
        "id": "Bo8LuLvlG5Xp",
        "outputId": "e65b4c07-70b5-4f8e-b670-7ec18145ea71"
      },
      "execution_count": null,
      "outputs": [
        {
          "output_type": "stream",
          "name": "stdout",
          "text": [
            "-0.750000000000000\n"
          ]
        }
      ]
    },
    {
      "cell_type": "markdown",
      "source": [
        "Observem que tenim el mateix resultat."
      ],
      "metadata": {
        "id": "ow_efmitIaVz"
      }
    }
  ]
}