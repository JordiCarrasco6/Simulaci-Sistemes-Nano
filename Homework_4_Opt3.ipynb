{
  "nbformat": 4,
  "nbformat_minor": 0,
  "metadata": {
    "colab": {
      "provenance": [],
      "authorship_tag": "ABX9TyPwQ+8KhaASey4zuPqV1Mlv",
      "include_colab_link": true
    },
    "kernelspec": {
      "name": "python3",
      "display_name": "Python 3"
    },
    "language_info": {
      "name": "python"
    }
  },
  "cells": [
    {
      "cell_type": "markdown",
      "metadata": {
        "id": "view-in-github",
        "colab_type": "text"
      },
      "source": [
        "<a href=\"https://colab.research.google.com/github/JordiCarrasco6/Simulaci-Sistemes-Nano/blob/main/Homework_4_Opt3.ipynb\" target=\"_parent\"><img src=\"https://colab.research.google.com/assets/colab-badge.svg\" alt=\"Open In Colab\"/></a>"
      ]
    },
    {
      "cell_type": "markdown",
      "source": [
        "## **Opció 3**"
      ],
      "metadata": {
        "id": "LdZFuVj0DYC1"
      }
    },
    {
      "cell_type": "markdown",
      "source": [
        "**Càlcul del volum d'una esfera mitjançant el mètode de Monte Carlo**"
      ],
      "metadata": {
        "id": "TMz5lCfiDfU8"
      }
    },
    {
      "cell_type": "markdown",
      "source": [
        "Per començar hem d'importar les biblioteques que necessitarem per fer l'exercici."
      ],
      "metadata": {
        "id": "9w796bH-DqEe"
      }
    },
    {
      "cell_type": "code",
      "source": [
        "import numpy as np\n",
        "import matplotlib.pyplot as plt"
      ],
      "metadata": {
        "id": "oFDZKh9xDwjR"
      },
      "execution_count": 11,
      "outputs": []
    },
    {
      "cell_type": "markdown",
      "source": [
        "Un com tenim les biblioteques, podem començar a escriure el codi.\n",
        "\n",
        "En aquest cas plantejem una esfera dins un cub, i anem posant punts aleatoris. Això vol dir que treballarem en 3D.\n",
        "\n",
        "A més hem de tenir en compte que Monte Carlo no pot aplicar directament la formula teorica del volum (V=4/3·pi·r^3), sino que fa una relació entre el total de punts, els punts que es troben dins l'esfera i els que estan dins el cub."
      ],
      "metadata": {
        "id": "Xc5qwc8SFIOu"
      }
    },
    {
      "cell_type": "markdown",
      "source": [
        "Tenint em compte això, i l'explicació del pdf, podem fer el següent codi."
      ],
      "metadata": {
        "id": "Fd6nLhZ9Fyt5"
      }
    },
    {
      "cell_type": "code",
      "source": [
        "def monte_carlo_sphere_volume(N, R=1): #En aquest cas estem definint que volem que faci la nostra funció, i respecte quines variable, N=nombre de punts, R=radi de l'esfera.\n",
        "    inside = 0\n",
        "    for _ in range(N):\n",
        "        x, y, z = np.random.uniform(-R, R, 3)  #Això ens permet generar punts aleatoris dins de les dimensions del nostre cub.\n",
        "        if x**2 + y**2 + z**2 <= R**2:  #Gràcies a aquest codi, podem distingir i dir-li que augmenti el valor de \"inside\" si el punt aleatori es troba dins de l'esfera, descrita per l'expressió.\n",
        "            inside += 1\n",
        "    volume_estimate = (inside / N) * (2*R)**3 #El volum de l'esfera, com s'explica al pdf, vindrà donat per aquesta expressió.\n",
        "    return volume_estimate\n"
      ],
      "metadata": {
        "id": "rhkNhhfv5ci6"
      },
      "execution_count": 16,
      "outputs": []
    },
    {
      "cell_type": "markdown",
      "source": [
        "Un com ja tenim escrit l'equació, simplement hem d'afegir les variables per trobar un valor numèric."
      ],
      "metadata": {
        "id": "ImrgMnyH53VZ"
      }
    },
    {
      "cell_type": "code",
      "source": [
        "N = 10000  # Nombre de punts\n",
        "volum_estimat = monte_carlo_sphere_volume(N)\n",
        "print(f\"Volum estimat d'una esfera de radi 1: {volum_estimat}\")"
      ],
      "metadata": {
        "colab": {
          "base_uri": "https://localhost:8080/"
        },
        "id": "1g6fh4Kg5wIR",
        "outputId": "2ae06865-0ec5-49c9-bed4-be3b815d64ad"
      },
      "execution_count": 18,
      "outputs": [
        {
          "output_type": "stream",
          "name": "stdout",
          "text": [
            "Volum estimat d'una esfera de radi 1: 4.2832\n"
          ]
        }
      ]
    },
    {
      "cell_type": "markdown",
      "source": [
        "He volgut fer la representació gràfica com els exemples de classe, però al ser una figura 3D no he sapigut com fer-ho del tot. He trobat informació que crec que em seria útil però no he sapigut implementar-ho.\n",
        "La pàgina que he trobat ha sigut: https://matplotlib.org/stable/gallery/mplot3d/scatter3d.html\n"
      ],
      "metadata": {
        "id": "wXAK4a-w-7AM"
      }
    },
    {
      "cell_type": "markdown",
      "source": [
        "Ara, el seguent apartat ens demana fer una integral d'àrea."
      ],
      "metadata": {
        "id": "20V5vxsa-akB"
      }
    },
    {
      "cell_type": "markdown",
      "source": [
        "Com estem en el mateix codi, no cal tornar a importar les biblioteques.\n",
        "\n",
        "Ara tornarem a definir el que farem. Primer donarem valors random entre dos limits, en el nostre cas 0 i PI, i evaluarem el punts en la regió delimitada.\n",
        "\n",
        "Per tal de fer el mètode de Monte Carlo, hem de tenir en compte que ara la àrea estimada serà la regió que evaluem, la resta entre els límits, per el nombre de punts que hi ha, en aquest cas son funcions."
      ],
      "metadata": {
        "id": "Zcorc1c8BQbL"
      }
    },
    {
      "cell_type": "code",
      "source": [
        "def monte_carlo_integral(f,a,b,N):\n",
        "  x_random=np.random.uniform(a,b,N)\n",
        "  f_values=f(x_random)\n",
        "  integral_estimade=(b-a)*np.mean(f_values)\n",
        "  return integral_estimade"
      ],
      "metadata": {
        "id": "WaC4JynkBPtE"
      },
      "execution_count": 47,
      "outputs": []
    },
    {
      "cell_type": "markdown",
      "source": [
        "Un com hem definit la funció que busquem simplement hem de donar valors a les constants per així trobar el valor numèric."
      ],
      "metadata": {
        "id": "xlaGICEhCcXi"
      }
    },
    {
      "cell_type": "code",
      "source": [
        "f=lambda x:np.sin(x)\n",
        "a,b= 0, np.pi\n",
        "N=10000"
      ],
      "metadata": {
        "id": "b8tOVJHfB8V7"
      },
      "execution_count": 48,
      "outputs": []
    },
    {
      "cell_type": "code",
      "source": [
        "integral=monte_carlo_integral(f,a,b,N)\n",
        "print(f\"Integral estimada de sin(x) entre els limits {a} i {b}:{integral} \")"
      ],
      "metadata": {
        "colab": {
          "base_uri": "https://localhost:8080/"
        },
        "id": "ieEwMbQcCGRy",
        "outputId": "9a3f3dd1-f355-4726-d020-27b24df37c4d"
      },
      "execution_count": 49,
      "outputs": [
        {
          "output_type": "stream",
          "name": "stdout",
          "text": [
            "Integral estimada de sin(x) entre els limits 0 i 3.141592653589793:2.0055102273283603 \n"
          ]
        }
      ]
    },
    {
      "cell_type": "markdown",
      "source": [
        "Si ho comparem amb el valor analitic, veiem un error molt petit, si utilitzem 10000 punts de proba, si aquest valor disminuiex, l'aproximació es menor."
      ],
      "metadata": {
        "id": "aqsFIfxKDBLC"
      }
    }
  ]
}